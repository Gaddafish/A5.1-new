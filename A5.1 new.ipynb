{
 "cells": [
  {
   "cell_type": "markdown",
   "id": "551b90b7",
   "metadata": {},
   "source": [
    "Hi, this dataset contains top 500 films by production budget, as judged by The Numbers. In this project I want to analyze the relationship between genre and production cost. Whether among these Top500 movies, one genre generally costs more than others.\n",
    "The author's own statement: \"Production budgets are not inflation adjusted\n",
    "Production budgets and box office numbers are hard to pin down specifically, as noted by The Numbers” So, I suppose it likes a playground dataset more."
   ]
  },
  {
   "cell_type": "code",
   "execution_count": 2,
   "id": "289e9b0e",
   "metadata": {},
   "outputs": [],
   "source": [
    "import pandas as pd\n",
    "from glob import glob\n",
    "import matplotlib.pyplot as plt"
   ]
  },
  {
   "cell_type": "markdown",
   "id": "32332f3e",
   "metadata": {},
   "source": [
    "First of all, read the file."
   ]
  },
  {
   "cell_type": "code",
   "execution_count": 3,
   "id": "383035f1",
   "metadata": {},
   "outputs": [
    {
     "data": {
      "text/html": [
       "<div>\n",
       "<style scoped>\n",
       "    .dataframe tbody tr th:only-of-type {\n",
       "        vertical-align: middle;\n",
       "    }\n",
       "\n",
       "    .dataframe tbody tr th {\n",
       "        vertical-align: top;\n",
       "    }\n",
       "\n",
       "    .dataframe thead th {\n",
       "        text-align: right;\n",
       "    }\n",
       "</style>\n",
       "<table border=\"1\" class=\"dataframe\">\n",
       "  <thead>\n",
       "    <tr style=\"text-align: right;\">\n",
       "      <th></th>\n",
       "      <th>rank</th>\n",
       "      <th>release_date</th>\n",
       "      <th>title</th>\n",
       "      <th>url</th>\n",
       "      <th>production_cost</th>\n",
       "      <th>domestic_gross</th>\n",
       "      <th>worldwide_gross</th>\n",
       "      <th>opening_weekend</th>\n",
       "      <th>mpaa</th>\n",
       "      <th>genre</th>\n",
       "      <th>theaters</th>\n",
       "      <th>runtime</th>\n",
       "      <th>year</th>\n",
       "    </tr>\n",
       "  </thead>\n",
       "  <tbody>\n",
       "    <tr>\n",
       "      <th>0</th>\n",
       "      <td>1</td>\n",
       "      <td>2019-04-23</td>\n",
       "      <td>Avengers: Endgame</td>\n",
       "      <td>/movie/Avengers-Endgame-(2019)#tab=summary</td>\n",
       "      <td>400000000</td>\n",
       "      <td>858373000</td>\n",
       "      <td>2797800564</td>\n",
       "      <td>357115007</td>\n",
       "      <td>PG-13</td>\n",
       "      <td>Action</td>\n",
       "      <td>4662</td>\n",
       "      <td>181</td>\n",
       "      <td>2019</td>\n",
       "    </tr>\n",
       "    <tr>\n",
       "      <th>1</th>\n",
       "      <td>2</td>\n",
       "      <td>2011-05-20</td>\n",
       "      <td>Pirates of the Caribbean: On Stranger Tides</td>\n",
       "      <td>/movie/Pirates-of-the-Caribbean-On-Stranger-Ti...</td>\n",
       "      <td>379000000</td>\n",
       "      <td>241071802</td>\n",
       "      <td>1045713802</td>\n",
       "      <td>90151958</td>\n",
       "      <td>PG-13</td>\n",
       "      <td>Adventure</td>\n",
       "      <td>4164</td>\n",
       "      <td>136</td>\n",
       "      <td>2011</td>\n",
       "    </tr>\n",
       "    <tr>\n",
       "      <th>2</th>\n",
       "      <td>3</td>\n",
       "      <td>2015-04-22</td>\n",
       "      <td>Avengers: Age of Ultron</td>\n",
       "      <td>/movie/Avengers-Age-of-Ultron#tab=summary</td>\n",
       "      <td>365000000</td>\n",
       "      <td>459005868</td>\n",
       "      <td>1395316979</td>\n",
       "      <td>191271109</td>\n",
       "      <td>PG-13</td>\n",
       "      <td>Action</td>\n",
       "      <td>4276</td>\n",
       "      <td>141</td>\n",
       "      <td>2015</td>\n",
       "    </tr>\n",
       "    <tr>\n",
       "      <th>3</th>\n",
       "      <td>4</td>\n",
       "      <td>2015-12-16</td>\n",
       "      <td>Star Wars Ep. VII: The Force Awakens</td>\n",
       "      <td>/movie/Star-Wars-Ep-VII-The-Force-Awakens#tab=...</td>\n",
       "      <td>306000000</td>\n",
       "      <td>936662225</td>\n",
       "      <td>2064615817</td>\n",
       "      <td>247966675</td>\n",
       "      <td>PG-13</td>\n",
       "      <td>Adventure</td>\n",
       "      <td>4134</td>\n",
       "      <td>136</td>\n",
       "      <td>2015</td>\n",
       "    </tr>\n",
       "    <tr>\n",
       "      <th>4</th>\n",
       "      <td>5</td>\n",
       "      <td>2018-04-25</td>\n",
       "      <td>Avengers: Infinity War</td>\n",
       "      <td>/movie/Avengers-Infinity-War#tab=summary</td>\n",
       "      <td>300000000</td>\n",
       "      <td>678815482</td>\n",
       "      <td>2048359754</td>\n",
       "      <td>257698183</td>\n",
       "      <td>PG-13</td>\n",
       "      <td>Action</td>\n",
       "      <td>4474</td>\n",
       "      <td>156</td>\n",
       "      <td>2018</td>\n",
       "    </tr>\n",
       "  </tbody>\n",
       "</table>\n",
       "</div>"
      ],
      "text/plain": [
       "  rank release_date                                        title  \\\n",
       "0    1   2019-04-23                            Avengers: Endgame   \n",
       "1    2   2011-05-20  Pirates of the Caribbean: On Stranger Tides   \n",
       "2    3   2015-04-22                      Avengers: Age of Ultron   \n",
       "3    4   2015-12-16         Star Wars Ep. VII: The Force Awakens   \n",
       "4    5   2018-04-25                       Avengers: Infinity War   \n",
       "\n",
       "                                                 url production_cost  \\\n",
       "0         /movie/Avengers-Endgame-(2019)#tab=summary       400000000   \n",
       "1  /movie/Pirates-of-the-Caribbean-On-Stranger-Ti...       379000000   \n",
       "2          /movie/Avengers-Age-of-Ultron#tab=summary       365000000   \n",
       "3  /movie/Star-Wars-Ep-VII-The-Force-Awakens#tab=...       306000000   \n",
       "4           /movie/Avengers-Infinity-War#tab=summary       300000000   \n",
       "\n",
       "  domestic_gross worldwide_gross opening_weekend   mpaa      genre theaters  \\\n",
       "0      858373000      2797800564       357115007  PG-13     Action     4662   \n",
       "1      241071802      1045713802        90151958  PG-13  Adventure     4164   \n",
       "2      459005868      1395316979       191271109  PG-13     Action     4276   \n",
       "3      936662225      2064615817       247966675  PG-13  Adventure     4134   \n",
       "4      678815482      2048359754       257698183  PG-13     Action     4474   \n",
       "\n",
       "  runtime  year  \n",
       "0     181  2019  \n",
       "1     136  2011  \n",
       "2     141  2015  \n",
       "3     136  2015  \n",
       "4     156  2018  "
      ]
     },
     "execution_count": 3,
     "metadata": {},
     "output_type": "execute_result"
    }
   ],
   "source": [
    "film_data = pd.read_csv('C:/Users/pc/Desktop/top-500-movies.csv', dtype=object)\n",
    "film_data.head()"
   ]
  },
  {
   "cell_type": "markdown",
   "id": "9eb2f76e",
   "metadata": {},
   "source": [
    "A ha, we know there are several genres, I suppose the highest production-cost will come to 'Action' or 'Adventure', they remind me of Stallone, The Fast and the Furious or Indiana Jones. Before we analyze data formally, let's check the null data as preparation."
   ]
  },
  {
   "cell_type": "code",
   "execution_count": 5,
   "id": "9de036e2",
   "metadata": {},
   "outputs": [
    {
     "data": {
      "text/plain": [
       "70"
      ]
     },
     "execution_count": 5,
     "metadata": {},
     "output_type": "execute_result"
    }
   ],
   "source": [
    "check = film_data.isnull().sum().sum()\n",
    "check"
   ]
  },
  {
   "cell_type": "markdown",
   "id": "5128b366",
   "metadata": {},
   "source": [
    "We got 70 NaN data, let's check which value NaN has."
   ]
  },
  {
   "cell_type": "code",
   "execution_count": 6,
   "id": "9d17ffd8",
   "metadata": {},
   "outputs": [],
   "source": [
    "import numpy as np"
   ]
  },
  {
   "cell_type": "code",
   "execution_count": 7,
   "id": "165b5cf8",
   "metadata": {
    "scrolled": true
   },
   "outputs": [
    {
     "data": {
      "text/plain": [
       "False"
      ]
     },
     "execution_count": 7,
     "metadata": {},
     "output_type": "execute_result"
    }
   ],
   "source": [
    "check2 = film_data.isnull().stack()[lambda x:x].index.tolist()\n",
    "def check(dfname):\n",
    "    for element in check2:\n",
    "        if element == 'production_cost':\n",
    "            return True\n",
    "        else:\n",
    "            return False\n",
    "        \n",
    "check(check2)"
   ]
  },
  {
   "cell_type": "markdown",
   "id": "46e0753b",
   "metadata": {},
   "source": [
    "After checking, we know that there is no null data in column \"production_cost\". Well done, let's continue."
   ]
  },
  {
   "cell_type": "markdown",
   "id": "6f75f2e2",
   "metadata": {},
   "source": [
    "Then, calculate the production cost based on the genre."
   ]
  },
  {
   "cell_type": "code",
   "execution_count": 13,
   "id": "a24dc1b8",
   "metadata": {},
   "outputs": [
    {
     "data": {
      "text/html": [
       "<div>\n",
       "<style scoped>\n",
       "    .dataframe tbody tr th:only-of-type {\n",
       "        vertical-align: middle;\n",
       "    }\n",
       "\n",
       "    .dataframe tbody tr th {\n",
       "        vertical-align: top;\n",
       "    }\n",
       "\n",
       "    .dataframe thead th {\n",
       "        text-align: right;\n",
       "    }\n",
       "</style>\n",
       "<table border=\"1\" class=\"dataframe\">\n",
       "  <thead>\n",
       "    <tr style=\"text-align: right;\">\n",
       "      <th></th>\n",
       "      <th>genre</th>\n",
       "      <th>production_cost</th>\n",
       "    </tr>\n",
       "  </thead>\n",
       "  <tbody>\n",
       "    <tr>\n",
       "      <th>0</th>\n",
       "      <td>Action</td>\n",
       "      <td>31616800000</td>\n",
       "    </tr>\n",
       "    <tr>\n",
       "      <th>1</th>\n",
       "      <td>Adventure</td>\n",
       "      <td>32158100000</td>\n",
       "    </tr>\n",
       "    <tr>\n",
       "      <th>2</th>\n",
       "      <td>Black Comedy</td>\n",
       "      <td>350000000</td>\n",
       "    </tr>\n",
       "    <tr>\n",
       "      <th>3</th>\n",
       "      <td>Comedy</td>\n",
       "      <td>1302000000</td>\n",
       "    </tr>\n",
       "    <tr>\n",
       "      <th>4</th>\n",
       "      <td>Drama</td>\n",
       "      <td>3226800000</td>\n",
       "    </tr>\n",
       "    <tr>\n",
       "      <th>5</th>\n",
       "      <td>Horror</td>\n",
       "      <td>397000000</td>\n",
       "    </tr>\n",
       "    <tr>\n",
       "      <th>6</th>\n",
       "      <td>Musical</td>\n",
       "      <td>1225000000</td>\n",
       "    </tr>\n",
       "    <tr>\n",
       "      <th>7</th>\n",
       "      <td>Romantic Comedy</td>\n",
       "      <td>225000000</td>\n",
       "    </tr>\n",
       "    <tr>\n",
       "      <th>8</th>\n",
       "      <td>Thriller/Suspense</td>\n",
       "      <td>3095000000</td>\n",
       "    </tr>\n",
       "    <tr>\n",
       "      <th>9</th>\n",
       "      <td>Western</td>\n",
       "      <td>417000000</td>\n",
       "    </tr>\n",
       "  </tbody>\n",
       "</table>\n",
       "</div>"
      ],
      "text/plain": [
       "               genre  production_cost\n",
       "0             Action      31616800000\n",
       "1          Adventure      32158100000\n",
       "2       Black Comedy        350000000\n",
       "3             Comedy       1302000000\n",
       "4              Drama       3226800000\n",
       "5             Horror        397000000\n",
       "6            Musical       1225000000\n",
       "7    Romantic Comedy        225000000\n",
       "8  Thriller/Suspense       3095000000\n",
       "9            Western        417000000"
      ]
     },
     "execution_count": 13,
     "metadata": {},
     "output_type": "execute_result"
    }
   ],
   "source": [
    "pro_count = film_data.groupby(['genre'])['production_cost'].sum().reset_index()\n",
    "pro_count"
   ]
  },
  {
   "cell_type": "markdown",
   "id": "ea688be2",
   "metadata": {},
   "source": [
    "Here are 10 genres. Then, count the amount of films based on different genres."
   ]
  },
  {
   "cell_type": "code",
   "execution_count": 34,
   "id": "ce3f1f02",
   "metadata": {
    "scrolled": true
   },
   "outputs": [
    {
     "name": "stderr",
     "output_type": "stream",
     "text": [
      "C:\\Users\\pc\\AppData\\Local\\Temp\\ipykernel_9672\\4229036405.py:2: FutureWarning: merging between different levels is deprecated and will be removed in a future version. (2 levels on the left, 1 on the right)\n",
      "  merged = pd.merge(count, pro_count, on='genre')\n"
     ]
    },
    {
     "data": {
      "text/html": [
       "<div>\n",
       "<style scoped>\n",
       "    .dataframe tbody tr th:only-of-type {\n",
       "        vertical-align: middle;\n",
       "    }\n",
       "\n",
       "    .dataframe tbody tr th {\n",
       "        vertical-align: top;\n",
       "    }\n",
       "\n",
       "    .dataframe thead th {\n",
       "        text-align: right;\n",
       "    }\n",
       "</style>\n",
       "<table border=\"1\" class=\"dataframe\">\n",
       "  <thead>\n",
       "    <tr style=\"text-align: right;\">\n",
       "      <th></th>\n",
       "      <th>genre</th>\n",
       "      <th>count</th>\n",
       "      <th>production_cost</th>\n",
       "    </tr>\n",
       "  </thead>\n",
       "  <tbody>\n",
       "    <tr>\n",
       "      <th>0</th>\n",
       "      <td>Action</td>\n",
       "      <td>202</td>\n",
       "      <td>31616800000</td>\n",
       "    </tr>\n",
       "    <tr>\n",
       "      <th>1</th>\n",
       "      <td>Adventure</td>\n",
       "      <td>213</td>\n",
       "      <td>32158100000</td>\n",
       "    </tr>\n",
       "    <tr>\n",
       "      <th>2</th>\n",
       "      <td>Black Comedy</td>\n",
       "      <td>3</td>\n",
       "      <td>350000000</td>\n",
       "    </tr>\n",
       "    <tr>\n",
       "      <th>3</th>\n",
       "      <td>Comedy</td>\n",
       "      <td>11</td>\n",
       "      <td>1302000000</td>\n",
       "    </tr>\n",
       "    <tr>\n",
       "      <th>4</th>\n",
       "      <td>Drama</td>\n",
       "      <td>26</td>\n",
       "      <td>3226800000</td>\n",
       "    </tr>\n",
       "    <tr>\n",
       "      <th>5</th>\n",
       "      <td>Horror</td>\n",
       "      <td>3</td>\n",
       "      <td>397000000</td>\n",
       "    </tr>\n",
       "    <tr>\n",
       "      <th>6</th>\n",
       "      <td>Musical</td>\n",
       "      <td>8</td>\n",
       "      <td>1225000000</td>\n",
       "    </tr>\n",
       "    <tr>\n",
       "      <th>7</th>\n",
       "      <td>Romantic Comedy</td>\n",
       "      <td>2</td>\n",
       "      <td>225000000</td>\n",
       "    </tr>\n",
       "    <tr>\n",
       "      <th>8</th>\n",
       "      <td>Thriller/Suspense</td>\n",
       "      <td>24</td>\n",
       "      <td>3095000000</td>\n",
       "    </tr>\n",
       "    <tr>\n",
       "      <th>9</th>\n",
       "      <td>Western</td>\n",
       "      <td>3</td>\n",
       "      <td>417000000</td>\n",
       "    </tr>\n",
       "  </tbody>\n",
       "</table>\n",
       "</div>"
      ],
      "text/plain": [
       "               genre  count  production_cost\n",
       "0             Action    202      31616800000\n",
       "1          Adventure    213      32158100000\n",
       "2       Black Comedy      3        350000000\n",
       "3             Comedy     11       1302000000\n",
       "4              Drama     26       3226800000\n",
       "5             Horror      3        397000000\n",
       "6            Musical      8       1225000000\n",
       "7    Romantic Comedy      2        225000000\n",
       "8  Thriller/Suspense     24       3095000000\n",
       "9            Western      3        417000000"
      ]
     },
     "execution_count": 34,
     "metadata": {},
     "output_type": "execute_result"
    }
   ],
   "source": [
    "count = film_data.groupby('genre').agg({\"url\":['count']}).rename(columns={'count':'count'})\n",
    "merged = pd.merge(count, pro_count, on='genre')\n",
    "merged.columns=['genre','count','production_cost']\n",
    "merged"
   ]
  },
  {
   "cell_type": "markdown",
   "id": "acec2f3e",
   "metadata": {},
   "source": [
    "I know that using \"merge\" is not the best way, cause the future warning, but I can't do better. This does not affect subsequent calculations, you know what these values represent. Here we got amount of films and the production cost of different genres."
   ]
  },
  {
   "cell_type": "code",
   "execution_count": 44,
   "id": "2936af43",
   "metadata": {},
   "outputs": [
    {
     "data": {
      "text/html": [
       "<div>\n",
       "<style scoped>\n",
       "    .dataframe tbody tr th:only-of-type {\n",
       "        vertical-align: middle;\n",
       "    }\n",
       "\n",
       "    .dataframe tbody tr th {\n",
       "        vertical-align: top;\n",
       "    }\n",
       "\n",
       "    .dataframe thead th {\n",
       "        text-align: right;\n",
       "    }\n",
       "</style>\n",
       "<table border=\"1\" class=\"dataframe\">\n",
       "  <thead>\n",
       "    <tr style=\"text-align: right;\">\n",
       "      <th></th>\n",
       "      <th>genre</th>\n",
       "      <th>count</th>\n",
       "      <th>production_cost</th>\n",
       "      <th>per</th>\n",
       "    </tr>\n",
       "    <tr>\n",
       "      <th>rank</th>\n",
       "      <th></th>\n",
       "      <th></th>\n",
       "      <th></th>\n",
       "      <th></th>\n",
       "    </tr>\n",
       "  </thead>\n",
       "  <tbody>\n",
       "    <tr>\n",
       "      <th>1.00</th>\n",
       "      <td>Action</td>\n",
       "      <td>202</td>\n",
       "      <td>31616800000</td>\n",
       "      <td>156518811.88</td>\n",
       "    </tr>\n",
       "    <tr>\n",
       "      <th>2.00</th>\n",
       "      <td>Musical</td>\n",
       "      <td>8</td>\n",
       "      <td>1225000000</td>\n",
       "      <td>153125000.00</td>\n",
       "    </tr>\n",
       "    <tr>\n",
       "      <th>3.00</th>\n",
       "      <td>Adventure</td>\n",
       "      <td>213</td>\n",
       "      <td>32158100000</td>\n",
       "      <td>150976995.31</td>\n",
       "    </tr>\n",
       "    <tr>\n",
       "      <th>4.00</th>\n",
       "      <td>Western</td>\n",
       "      <td>3</td>\n",
       "      <td>417000000</td>\n",
       "      <td>139000000.00</td>\n",
       "    </tr>\n",
       "    <tr>\n",
       "      <th>5.00</th>\n",
       "      <td>Horror</td>\n",
       "      <td>3</td>\n",
       "      <td>397000000</td>\n",
       "      <td>132333333.33</td>\n",
       "    </tr>\n",
       "    <tr>\n",
       "      <th>6.00</th>\n",
       "      <td>Thriller/Suspense</td>\n",
       "      <td>24</td>\n",
       "      <td>3095000000</td>\n",
       "      <td>128958333.33</td>\n",
       "    </tr>\n",
       "    <tr>\n",
       "      <th>7.00</th>\n",
       "      <td>Drama</td>\n",
       "      <td>26</td>\n",
       "      <td>3226800000</td>\n",
       "      <td>124107692.31</td>\n",
       "    </tr>\n",
       "    <tr>\n",
       "      <th>8.00</th>\n",
       "      <td>Comedy</td>\n",
       "      <td>11</td>\n",
       "      <td>1302000000</td>\n",
       "      <td>118363636.36</td>\n",
       "    </tr>\n",
       "    <tr>\n",
       "      <th>9.00</th>\n",
       "      <td>Black Comedy</td>\n",
       "      <td>3</td>\n",
       "      <td>350000000</td>\n",
       "      <td>116666666.67</td>\n",
       "    </tr>\n",
       "    <tr>\n",
       "      <th>10.00</th>\n",
       "      <td>Romantic Comedy</td>\n",
       "      <td>2</td>\n",
       "      <td>225000000</td>\n",
       "      <td>112500000.00</td>\n",
       "    </tr>\n",
       "  </tbody>\n",
       "</table>\n",
       "</div>"
      ],
      "text/plain": [
       "                   genre  count  production_cost          per\n",
       "rank                                                         \n",
       "1.00              Action    202      31616800000 156518811.88\n",
       "2.00             Musical      8       1225000000 153125000.00\n",
       "3.00           Adventure    213      32158100000 150976995.31\n",
       "4.00             Western      3        417000000 139000000.00\n",
       "5.00              Horror      3        397000000 132333333.33\n",
       "6.00   Thriller/Suspense     24       3095000000 128958333.33\n",
       "7.00               Drama     26       3226800000 124107692.31\n",
       "8.00              Comedy     11       1302000000 118363636.36\n",
       "9.00        Black Comedy      3        350000000 116666666.67\n",
       "10.00    Romantic Comedy      2        225000000 112500000.00"
      ]
     },
     "execution_count": 44,
     "metadata": {},
     "output_type": "execute_result"
    }
   ],
   "source": [
    "merged['per'] = merged['production_cost'] / merged['count']\n",
    "pd.options.display.float_format = '{:.2f}'.format\n",
    "merged['rank'] = merged['per'].rank(ascending=0)\n",
    "merged = merged.set_index('rank')\n",
    "merged = merged.sort_index()\n",
    "merged"
   ]
  },
  {
   "cell_type": "markdown",
   "id": "33c51ff7",
   "metadata": {},
   "source": [
    "Atfer calculating, 'per' column used the scientific notation method, and there are many decimal places, I have adjusted. I also ranked them. Let's do visualization."
   ]
  },
  {
   "cell_type": "code",
   "execution_count": 45,
   "id": "1f1bb58a",
   "metadata": {},
   "outputs": [
    {
     "data": {
      "image/png": "[encoded data removed]",
      "text/plain": [
       "<Figure size 640x480 with 1 Axes>"
      ]
     },
     "metadata": {},
     "output_type": "display_data"
    }
   ],
   "source": [
    "merged.plot.bar(x='genre', y='per', title='genre-cost')\n",
    "plt.show()"
   ]
  },
  {
   "cell_type": "markdown",
   "id": "1841e263",
   "metadata": {},
   "source": [
    "In conclusion, although the number of romantic comedies, westerns, horror films, and black comedies is the least, it seems to be very non-mainstream， the fact is that the production-cost of westerns and horror films is not low. \n",
    "The last three are Comedy, Black Comedy, and Romantic Comedy respectively, so it seems that the production cost of comedy is low in general.\n",
    "As we expected, action films have the highest production-cost, and there may be a lot of special scenes and special effects that need to be produced."
   ]
  }
 ],
 "metadata": {
  "kernelspec": {
   "display_name": "Python 3 (ipykernel)",
   "language": "python",
   "name": "python3"
  },
  "language_info": {
   "codemirror_mode": {
    "name": "ipython",
    "version": 3
   },
   "file_extension": ".py",
   "mimetype": "text/x-python",
   "name": "python",
   "nbconvert_exporter": "python",
   "pygments_lexer": "ipython3",
   "version": "3.9.13"
  }
 },
 "nbformat": 4,
 "nbformat_minor": 5
}
